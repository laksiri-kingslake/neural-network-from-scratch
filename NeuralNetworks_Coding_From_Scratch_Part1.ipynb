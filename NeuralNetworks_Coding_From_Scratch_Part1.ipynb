{
  "cells": [
    {
      "cell_type": "markdown",
      "metadata": {
        "colab_type": "text",
        "id": "view-in-github"
      },
      "source": [
        "<a href=\"https://colab.research.google.com/github/laksiri-kingslake/neural-network-from-scratch/blob/main/NeuralNetworks_Coding_From_Scratch_Part1.ipynb\" target=\"_parent\"><img src=\"https://colab.research.google.com/assets/colab-badge.svg\" alt=\"Open In Colab\"/></a>"
      ]
    },
    {
      "cell_type": "markdown",
      "metadata": {
        "id": "ucZYVWCp8UNU"
      },
      "source": [
        "## BUILDING NEURAL NETWORKS FROM SCRATCH PART 1: CODING NEURONS AND LAYERS"
      ]
    },
    {
      "cell_type": "markdown",
      "metadata": {
        "id": "lRSEcy8B8UNc"
      },
      "source": [
        "<div class=\"alert alert-block alert-success\">\n",
        "<b>CODING OUR FIRST NEURON: 3 INPUTS</b>\n",
        "</div>"
      ]
    },
    {
      "cell_type": "markdown",
      "metadata": {
        "id": "uO3-Xu3B8UNe"
      },
      "source": [
        "![Neuron with 3 inputs](./images/neuron-3-input.png)"
      ]
    },
    {
      "cell_type": "code",
      "execution_count": 2,
      "metadata": {
        "id": "A_-bYGnj8UNg",
        "outputId": "e4944b30-c646-4a4f-f638-12c6e929752f"
      },
      "outputs": [
        {
          "name": "stdout",
          "output_type": "stream",
          "text": [
            "2.3\n"
          ]
        }
      ],
      "source": [
        "inputs = [1, 2, 3]\n",
        "weights = [0.2, 0.8, -0.5]\n",
        "bias = 2\n",
        "\n",
        "outputs = (inputs[0]*weights[0] + inputs[1]*weights[1] + inputs[2]*weights[2] + bias)\n",
        "\n",
        "print(outputs)"
      ]
    },
    {
      "cell_type": "markdown",
      "metadata": {
        "id": "GCIam42N8UNj"
      },
      "source": [
        "<div class=\"alert alert-block alert-success\">\n",
        "<b>CODING OUR SECOND NEURON: 4 INPUTS</b>\n",
        "</div>"
      ]
    },
    {
      "cell_type": "markdown",
      "metadata": {
        "id": "_WM6lkhi8UNk"
      },
      "source": [
        "![Neuron with 4 inputs](./images/neuron-4-input.png)"
      ]
    },
    {
      "cell_type": "code",
      "execution_count": 3,
      "metadata": {
        "id": "X63sO_Aa8UNm",
        "outputId": "d003e969-6e8f-4eb3-89e6-822dbe4760db"
      },
      "outputs": [
        {
          "name": "stdout",
          "output_type": "stream",
          "text": [
            "4.8\n"
          ]
        }
      ],
      "source": [
        "inputs = [1.0, 2.0, 3.0, 2.5]\n",
        "weights = [0.2, 0.8, -0.5, 1.0]\n",
        "bias = 2.0\n",
        "output = (inputs[0]*weights[0] +\n",
        " inputs[1]*weights[1] +\n",
        " inputs[2]*weights[2] +\n",
        " inputs[3]*weights[3] + bias)\n",
        "\n",
        "print(output)"
      ]
    },
    {
      "cell_type": "markdown",
      "metadata": {
        "id": "NJl5OsPI8UNn"
      },
      "source": [
        "<div class=\"alert alert-block alert-success\">\n",
        "<b>CODING OUR FIRST LAYER</b>\n",
        "</div>"
      ]
    },
    {
      "cell_type": "markdown",
      "metadata": {
        "id": "36-OUQKD8UNp"
      },
      "source": [
        "![A layer of neurons](./images/neuron-layer.png)"
      ]
    },
    {
      "cell_type": "code",
      "execution_count": 4,
      "metadata": {
        "id": "TYLps_Y18UNq",
        "outputId": "0728ab71-0006-4b95-81b4-cf937a3f2e96"
      },
      "outputs": [
        {
          "name": "stdout",
          "output_type": "stream",
          "text": [
            "[4.8, 1.21, 2.385]\n"
          ]
        }
      ],
      "source": [
        "inputs = [1, 2, 3, 2.5]\n",
        "\n",
        "weights = [[0.2, 0.8, -0.5, 1],\n",
        " [0.5, -0.91, 0.26, -0.5],\n",
        " [-0.26, -0.27, 0.17, 0.87]]\n",
        "\n",
        "weights1 = weights[0] #LIST OF WEIGHTS ASSOCIATED WITH 1ST NEURON : W11, W12, W13, W14\n",
        "weights2 = weights[1] #LIST OF WEIGHTS ASSOCIATED WITH 2ND NEURON : W21, W22, W23, W24\n",
        "weights3 = weights[2] #LIST OF WEIGHTS ASSOCIATED WITH 3RD NEURON : W31, W32, W33, W34\n",
        "\n",
        "biases = [2, 3, 0.5]\n",
        "\n",
        "bias1 = 2\n",
        "bias2 = 3\n",
        "bias3 = 0.5\n",
        "\n",
        "outputs = [\n",
        " # Neuron 1:\n",
        " inputs[0]*weights1[0] +\n",
        " inputs[1]*weights1[1] +\n",
        " inputs[2]*weights1[2] +\n",
        " inputs[3]*weights1[3] + bias1,\n",
        " # Neuron 2:\n",
        " inputs[0]*weights2[0] +\n",
        " inputs[1]*weights2[1] +\n",
        " inputs[2]*weights2[2] +\n",
        " inputs[3]*weights2[3] + bias2,\n",
        " # Neuron 3:\n",
        " inputs[0]*weights3[0] +\n",
        " inputs[1]*weights3[1] +\n",
        " inputs[2]*weights3[2] +\n",
        " inputs[3]*weights3[3] + bias3]\n",
        "\n",
        "print(outputs)"
      ]
    },
    {
      "cell_type": "markdown",
      "metadata": {
        "id": "zvzjwWmA8UNr"
      },
      "source": [
        "<div class=\"alert alert-block alert-danger\">\n",
        "\n",
        "USING LOOPS FOR BETTER AND EASIER CODING</div>"
      ]
    },
    {
      "cell_type": "code",
      "execution_count": 5,
      "metadata": {
        "id": "0jMKVthw8UNr",
        "outputId": "a33cf669-d104-41e3-ceec-1d5e9e3eb75f"
      },
      "outputs": [
        {
          "name": "stdout",
          "output_type": "stream",
          "text": [
            "[4.8, 1.21, 2.385]\n"
          ]
        }
      ],
      "source": [
        "inputs = [1, 2, 3, 2.5]\n",
        "\n",
        "##LIST OF WEIGHTS\n",
        "weights = [[0.2, 0.8, -0.5, 1],\n",
        " [0.5, -0.91, 0.26, -0.5],\n",
        " [-0.26, -0.27, 0.17, 0.87]]\n",
        "\n",
        "##LIST OF BIASES\n",
        "biases = [2, 3, 0.5]\n",
        "\n",
        "# Output of current layer\n",
        "layer_outputs = []\n",
        "\n",
        "# For each neuron\n",
        "for neuron_weights, neuron_bias in zip(weights, biases):\n",
        " # Zeroed output of given neuron\n",
        " neuron_output = 0\n",
        " # For each input and weight to the neuron\n",
        " for n_input, weight in zip(inputs, neuron_weights):\n",
        " # Multiply this input by associated weight\n",
        " # and add to the neuron's output variable\n",
        "   neuron_output += n_input*weight ## W31*X1 + W32*X2 + W33*X3 + W34*X4\n",
        "   # Add bias\n",
        " neuron_output += neuron_bias ## ## W31*X1 + W32*X2 + W33*X3 + W34*X4 + B3\n",
        " # Put neuron's result to the layer's output list\n",
        " layer_outputs.append(neuron_output)\n",
        "print(layer_outputs)"
      ]
    },
    {
      "cell_type": "markdown",
      "metadata": {
        "id": "ZobPGyvi8UNs"
      },
      "source": [
        "<div class=\"alert alert-block alert-success\">\n",
        "<b>USING NUMPY</b>\n",
        "</div>"
      ]
    },
    {
      "cell_type": "markdown",
      "metadata": {
        "id": "Lj3q5MQG8UNt"
      },
      "source": [
        "<div class=\"alert alert-block alert-warning\">\n",
        "SINGLE NEURON USING NUMPY\n",
        "</div>"
      ]
    },
    {
      "cell_type": "markdown",
      "metadata": {
        "id": "eWuZSA5k8UNt"
      },
      "source": [
        "![Screenshot 2024-05-16 at 12.21.35 PM.png](attachment:15dc20d7-a498-4291-a8d1-546adb19f1df.png)"
      ]
    },
    {
      "cell_type": "code",
      "execution_count": null,
      "metadata": {
        "id": "p6WIXj7J8UNt",
        "outputId": "69c3478c-f8b0-461f-f45c-3849294efaaa"
      },
      "outputs": [],
      "source": [
        "import numpy as np\n",
        "inputs = [1.0, 2.0, 3.0, 2.5]\n",
        "weights = [0.2, 0.8, -0.5, 1.0]\n",
        "bias = 2.0\n",
        "outputs = np.dot(weights, inputs) + bias\n",
        "print(outputs)"
      ]
    },
    {
      "cell_type": "markdown",
      "metadata": {
        "id": "_x10q2_R8UNu"
      },
      "source": [
        "<div class=\"alert alert-block alert-warning\">\n",
        "LAYER OF NEURONS USING NUMPY\n",
        "</div>"
      ]
    },
    {
      "cell_type": "markdown",
      "metadata": {
        "id": "Bkm2btfY8UNu"
      },
      "source": [
        "![Screenshot 2024-05-16 at 12.28.51 PM.png](attachment:1baffeb8-236f-4476-a62a-2faf2ef006af.png)"
      ]
    },
    {
      "cell_type": "code",
      "execution_count": null,
      "metadata": {
        "id": "KYiy6yk38UNv"
      },
      "outputs": [],
      "source": [
        "##  In plain Python, we wrote this as a list of lists. With NumPy, this will be a 2-dimensional array, which we’ll call a matrix."
      ]
    },
    {
      "cell_type": "code",
      "execution_count": null,
      "metadata": {
        "id": "dWnhVLio8UNw",
        "outputId": "12973122-25bf-4400-8262-b60e2f6e3dfd"
      },
      "outputs": [],
      "source": [
        "inputs = [1.0, 2.0, 3.0, 2.5]\n",
        "weights = [[0.2, 0.8, -0.5, 1],\n",
        " [0.5, -0.91, 0.26, -0.5],\n",
        " [-0.26, -0.27, 0.17, 0.87]]\n",
        "biases = [2.0, 3.0, 0.5]\n",
        "\n",
        "# A dot product of a matrix and a vector results in a list of dot products.\n",
        "#The np.dot() method treats the matrix as a list of vectors and performs a dot product of each of those vectors with the other vector\n",
        "\n",
        "layer_outputs = np.dot(weights, inputs) + biases\n",
        "print(layer_outputs)"
      ]
    },
    {
      "cell_type": "markdown",
      "metadata": {
        "id": "zbmUcHAI8UNw"
      },
      "source": [
        "<div class=\"alert alert-block alert-warning\">\n",
        "LAYER OF NEURONS AND BATCH OF DATA USING NUMPY\n",
        "</div>"
      ]
    },
    {
      "cell_type": "markdown",
      "metadata": {
        "id": "CdYVgytk8UNx"
      },
      "source": [
        "![Screenshot 2024-05-16 at 12.40.55 PM.png](attachment:a823d9f6-e42c-451f-adee-be153cc12000.png)"
      ]
    },
    {
      "cell_type": "markdown",
      "metadata": {
        "id": "FvCbu-NB8UNx"
      },
      "source": [
        "<div class=\"alert alert-block alert-danger\">\n",
        "\n",
        "NEED TO TAKE TRANSPOSE OF WEIGHT MATRIX</div>"
      ]
    },
    {
      "cell_type": "markdown",
      "metadata": {
        "id": "K9uA_IMH8UNx"
      },
      "source": [
        "![Screenshot 2024-05-16 at 12.41.11 PM.png](attachment:45a2d43b-5bdc-4752-8e55-9a60c2e459ca.png)"
      ]
    },
    {
      "cell_type": "code",
      "execution_count": null,
      "metadata": {
        "id": "nkve7cWx8UNx",
        "outputId": "a0ea87ab-4e6a-40fe-c862-ec31672c61eb"
      },
      "outputs": [],
      "source": [
        "inputs = [[1.0, 2.0, 3.0, 2.5], [2.0, 5.0, -1.0, 2.0], [-1.5, 2.7, 3.3, -0.8]]\n",
        "weights = [[0.2, 0.8, -0.5, 1],\n",
        " [0.5, -0.91, 0.26, -0.5],\n",
        " [-0.26, -0.27, 0.17, 0.87]]\n",
        "biases = [2.0, 3.0, 0.5]\n",
        "\n",
        "# NOTE: WE CAN'T TRANSPOSE LISTS IN PYTHON, SO WE HAVE THE CONVERT THE WEIGHTS MATRIX INTO AN ARRAY FIRST\n",
        "outputs = np.dot(inputs, np.array(weights).T) + biases\n",
        "print(outputs)"
      ]
    },
    {
      "cell_type": "code",
      "execution_count": null,
      "metadata": {
        "id": "JGDlFO_A8UNy"
      },
      "outputs": [],
      "source": []
    }
  ],
  "metadata": {
    "colab": {
      "include_colab_link": true,
      "provenance": []
    },
    "kernelspec": {
      "display_name": ".venv",
      "language": "python",
      "name": "python3"
    },
    "language_info": {
      "codemirror_mode": {
        "name": "ipython",
        "version": 3
      },
      "file_extension": ".py",
      "mimetype": "text/x-python",
      "name": "python",
      "nbconvert_exporter": "python",
      "pygments_lexer": "ipython3",
      "version": "3.12.3"
    }
  },
  "nbformat": 4,
  "nbformat_minor": 0
}
