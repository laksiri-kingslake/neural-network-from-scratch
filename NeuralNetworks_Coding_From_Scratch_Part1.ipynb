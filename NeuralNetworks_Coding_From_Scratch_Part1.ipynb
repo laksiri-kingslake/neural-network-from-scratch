{
  "cells": [
    {
      "cell_type": "markdown",
      "metadata": {
        "colab_type": "text",
        "id": "view-in-github"
      },
      "source": [
        "<a href=\"https://colab.research.google.com/github/laksiri-kingslake/neural-network-from-scratch/blob/main/NeuralNetworks_Coding_From_Scratch_Part1.ipynb\" target=\"_parent\"><img src=\"https://colab.research.google.com/assets/colab-badge.svg\" alt=\"Open In Colab\"/></a>"
      ]
    },
    {
      "cell_type": "markdown",
      "metadata": {
        "id": "ucZYVWCp8UNU"
      },
      "source": [
        "## BUILDING NEURAL NETWORKS FROM SCRATCH PART 1: CODING NEURONS AND LAYERS"
      ]
    },
    {
      "cell_type": "markdown",
      "metadata": {
        "id": "lRSEcy8B8UNc"
      },
      "source": [
        "### CODING OUR FIRST NEURON: 3 INPUTS"
      ]
    },
    {
      "cell_type": "markdown",
      "metadata": {
        "id": "uO3-Xu3B8UNe"
      },
      "source": [
        "![Neuron with 3 inputs](./images/neuron-3-input.png)"
      ]
    },
    {
      "cell_type": "code",
      "execution_count": 2,
      "metadata": {
        "id": "A_-bYGnj8UNg",
        "outputId": "e4944b30-c646-4a4f-f638-12c6e929752f"
      },
      "outputs": [
        {
          "name": "stdout",
          "output_type": "stream",
          "text": [
            "2.3\n"
          ]
        }
      ],
      "source": [
        "inputs = [1, 2, 3]\n",
        "weights = [0.2, 0.8, -0.5]\n",
        "bias = 2\n",
        "\n",
        "outputs = (inputs[0]*weights[0] + inputs[1]*weights[1] + inputs[2]*weights[2] + bias)\n",
        "\n",
        "print(outputs)"
      ]
    },
    {
      "cell_type": "markdown",
      "metadata": {
        "id": "GCIam42N8UNj"
      },
      "source": [
        "### CODING OUR SECOND NEURON: 4 INPUTS ###"
      ]
    },
    {
      "cell_type": "markdown",
      "metadata": {
        "id": "_WM6lkhi8UNk"
      },
      "source": [
        "![Neuron with 4 inputs](./images/neuron-4-input.png)"
      ]
    },
    {
      "cell_type": "code",
      "execution_count": 3,
      "metadata": {
        "id": "X63sO_Aa8UNm",
        "outputId": "d003e969-6e8f-4eb3-89e6-822dbe4760db"
      },
      "outputs": [
        {
          "name": "stdout",
          "output_type": "stream",
          "text": [
            "4.8\n"
          ]
        }
      ],
      "source": [
        "inputs = [1.0, 2.0, 3.0, 2.5]\n",
        "weights = [0.2, 0.8, -0.5, 1.0]\n",
        "bias = 2.0\n",
        "output = (inputs[0]*weights[0] +\n",
        " inputs[1]*weights[1] +\n",
        " inputs[2]*weights[2] +\n",
        " inputs[3]*weights[3] + bias)\n",
        "\n",
        "print(output)"
      ]
    },
    {
      "cell_type": "markdown",
      "metadata": {
        "id": "NJl5OsPI8UNn"
      },
      "source": [
        "### CODING OUR FIRST LAYER"
      ]
    },
    {
      "cell_type": "markdown",
      "metadata": {
        "id": "36-OUQKD8UNp"
      },
      "source": [
        "![A layer of neurons](./images/neuron-layer.png)"
      ]
    },
    {
      "cell_type": "code",
      "execution_count": null,
      "metadata": {
        "id": "TYLps_Y18UNq",
        "outputId": "0728ab71-0006-4b95-81b4-cf937a3f2e96"
      },
      "outputs": [
        {
          "name": "stdout",
          "output_type": "stream",
          "text": [
            "[4.8, 1.21, 2.385]\n"
          ]
        }
      ],
      "source": [
        "inputs = [1, 2, 3, 2.5]\n",
        "\n",
        "weights = [[0.2, 0.8, -0.5, 1],\n",
        " [0.5, -0.91, 0.26, -0.5],\n",
        " [-0.26, -0.27, 0.17, 0.87]]\n",
        "\n",
        "weights1 = weights[0] #LIST OF WEIGHTS ASSOCIATED WITH 1ST NEURON : W11, W12, W13, W14\n",
        "weights2 = weights[1] #LIST OF WEIGHTS ASSOCIATED WITH 2ND NEURON : W21, W22, W23, W24\n",
        "weights3 = weights[2] #LIST OF WEIGHTS ASSOCIATED WITH 3RD NEURON : W31, W32, W33, W34\n",
        "\n",
        "biases = [bias1, bias2, bias3] = [2, 3, 0.5]\n",
        "\n",
        "outputs = [\n",
        " # Neuron 1:\n",
        " inputs[0]*weights1[0] +\n",
        " inputs[1]*weights1[1] +\n",
        " inputs[2]*weights1[2] +\n",
        " inputs[3]*weights1[3] + bias1,\n",
        " # Neuron 2:\n",
        " inputs[0]*weights2[0] +\n",
        " inputs[1]*weights2[1] +\n",
        " inputs[2]*weights2[2] +\n",
        " inputs[3]*weights2[3] + bias2,\n",
        " # Neuron 3:\n",
        " inputs[0]*weights3[0] +\n",
        " inputs[1]*weights3[1] +\n",
        " inputs[2]*weights3[2] +\n",
        " inputs[3]*weights3[3] + bias3]\n",
        "\n",
        "print(outputs)"
      ]
    },
    {
      "cell_type": "markdown",
      "metadata": {
        "id": "zvzjwWmA8UNr"
      },
      "source": [
        "#### USING LOOPS FOR BETTER AND EASIER CODING"
      ]
    },
    {
      "cell_type": "code",
      "execution_count": 5,
      "metadata": {
        "id": "0jMKVthw8UNr",
        "outputId": "a33cf669-d104-41e3-ceec-1d5e9e3eb75f"
      },
      "outputs": [
        {
          "name": "stdout",
          "output_type": "stream",
          "text": [
            "[4.8, 1.21, 2.385]\n"
          ]
        }
      ],
      "source": [
        "inputs = [1, 2, 3, 2.5]\n",
        "\n",
        "##LIST OF WEIGHTS\n",
        "weights = [[0.2, 0.8, -0.5, 1],\n",
        " [0.5, -0.91, 0.26, -0.5],\n",
        " [-0.26, -0.27, 0.17, 0.87]]\n",
        "\n",
        "##LIST OF BIASES\n",
        "biases = [2, 3, 0.5]\n",
        "\n",
        "# Output of current layer\n",
        "layer_outputs = []\n",
        "\n",
        "# For each neuron\n",
        "for neuron_weights, neuron_bias in zip(weights, biases):\n",
        " # Zeroed output of given neuron\n",
        " neuron_output = 0\n",
        " # For each input and weight to the neuron\n",
        " for n_input, weight in zip(inputs, neuron_weights):\n",
        " # Multiply this input by associated weight\n",
        " # and add to the neuron's output variable\n",
        "   neuron_output += n_input*weight ## W31*X1 + W32*X2 + W33*X3 + W34*X4\n",
        "   # Add bias\n",
        " neuron_output += neuron_bias ## ## W31*X1 + W32*X2 + W33*X3 + W34*X4 + B3\n",
        " # Put neuron's result to the layer's output list\n",
        " layer_outputs.append(neuron_output)\n",
        "print(layer_outputs)"
      ]
    },
    {
      "cell_type": "markdown",
      "metadata": {
        "id": "ZobPGyvi8UNs"
      },
      "source": [
        "#### USING NUMPY"
      ]
    },
    {
      "cell_type": "markdown",
      "metadata": {},
      "source": [
        "##### NumPy dot Product \n",
        "\n",
        "1. NumPy dot Product of Vectors\n",
        "\n",
        "    x = [a1, a2, a3]\n",
        "\n",
        "    y = [b1, b2, b3]\n",
        "\n",
        "    np.dot(x, y) = a1*b1 + a2*b2 + a3*b3"
      ]
    },
    {
      "cell_type": "code",
      "execution_count": 9,
      "metadata": {},
      "outputs": [
        {
          "name": "stdout",
          "output_type": "stream",
          "text": [
            "32\n"
          ]
        }
      ],
      "source": [
        "import numpy as np\n",
        "x = np.array([1, 2, 3])\n",
        "y = np.array([4, 5, 6])\n",
        "print(np.dot(x, y))  # Output: 32"
      ]
    },
    {
      "cell_type": "markdown",
      "metadata": {},
      "source": [
        "2. NumPy dot product of vector and matrix\n",
        "\n",
        "    x = [a1, a2, a3] # 1 x 3\n",
        "\n",
        "    y = [[b11, b12, b13],<br>\n",
        "         [b21, b22, b23],<br>\n",
        "         [b31, b32, b33]] # 3 x 3\n",
        "\n",
        "    np.dot(x, y) = [a1*b11 + a2*b21 + a3*b31, a1*b12 + a2*b22 + a3*b32, a1*b13 + a2*b23 + a3*b33] # 1 x 3\n",
        "\n",
        "    Let's call<br>\n",
        "    bn1 = [b11,b21,b31]<br>\n",
        "    bn2 = [b12,b22,b32]<br>\n",
        "    bn3 = [b13,b23,b33]<br>\n",
        "    Then,<br>\n",
        "    np.dot(x, y) = [np.dot(x,bn1), np.dot(x,bn2), np.dot(x,bn3)] # 1 x 3\n",
        "\n",
        "    np.dot(y, x) = [[np.dot(bn1, x)],[np.dot(bn2, x)],[np.dot(bn3, x)]]"
      ]
    },
    {
      "cell_type": "code",
      "execution_count": null,
      "metadata": {},
      "outputs": [
        {
          "name": "stdout",
          "output_type": "stream",
          "text": [
            "[48 54 60]\n"
          ]
        }
      ],
      "source": [
        "y = np.array([[4, 5, 6],[7, 8, 9],[10, 11, 12]]) # 3 x 3 matrix\n",
        "print(np.dot(x, y))  # Output: 48 54 60 1 x 3 matrix (vector)"
      ]
    },
    {
      "cell_type": "code",
      "execution_count": null,
      "metadata": {},
      "outputs": [
        {
          "name": "stdout",
          "output_type": "stream",
          "text": [
            "[32 50 68]\n"
          ]
        }
      ],
      "source": [
        "print(np.dot(y, x)) # Output: [32  50  48] 3 x 1 matrix (vector)"
      ]
    },
    {
      "cell_type": "markdown",
      "metadata": {},
      "source": [
        "3. NumPy dot product of a matrix and a matrix\n",
        "\n",
        "    a = [[a11, a12],<br>\n",
        "         [a21, a22],<br>\n",
        "         [a31, a32]]<br> # 3 x 2 matrix\n",
        "\n",
        "    y = [[b11, b12, b13],<br>\n",
        "         [b21, b22, b23]] # 2 x 3 matrix<br>\n",
        "\n",
        "    Let's call<br>\n",
        "    a1 = [a11, a12]<br>\n",
        "    a2 = [a21, a22]<br>\n",
        "    a3 = [a31, a32]<br>\n",
        "    bn1 = [b11,b21]<br>\n",
        "    bn2 = [b12,b22]<br>\n",
        "    bn3 = [b13,b23]<br>\n",
        "    Then,<br>\n",
        "\n",
        "    np.dot(a, b) = [[np.dot(a1,bn1), np.dot(a1,bn2), np.dot(a1,bn3)],<br>\n",
        "                    [np.dot(a2,bn1), np.dot(a2,bn2), np.dot(a2,bn3)],<br>\n",
        "                    [np.dot(a3,bn1), np.dot(a3,bn2), np.dot(a3,bn3)]]     # 3 x 3 matrix"
      ]
    },
    {
      "cell_type": "code",
      "execution_count": 12,
      "metadata": {},
      "outputs": [
        {
          "name": "stdout",
          "output_type": "stream",
          "text": [
            "[[ 27  30  33]\n",
            " [ 61  68  75]\n",
            " [ 95 106 117]]\n"
          ]
        }
      ],
      "source": [
        "import numpy as np\n",
        "\n",
        "a = np.array([[1, 2],\n",
        "              [3, 4],\n",
        "              [5, 6]]) # 3 x 2 matrix\n",
        "\n",
        "b = np.array([[7, 8, 9],\n",
        "              [10, 11, 12]]) # 2 x 3 matrix\n",
        "\n",
        "print(np.dot(a, b)) # Output: [[27 30 33] [61 68 75] [95 106 117]] 3 x 3 matrix\n"
      ]
    },
    {
      "cell_type": "markdown",
      "metadata": {
        "id": "Lj3q5MQG8UNt"
      },
      "source": [
        "##### SINGLE NEURON USING NUMPY"
      ]
    },
    {
      "cell_type": "markdown",
      "metadata": {
        "id": "eWuZSA5k8UNt"
      },
      "source": [
        "![A neuron with np dot product](./images/neuron-np-dot.png)"
      ]
    },
    {
      "cell_type": "code",
      "execution_count": 13,
      "metadata": {
        "id": "p6WIXj7J8UNt",
        "outputId": "69c3478c-f8b0-461f-f45c-3849294efaaa"
      },
      "outputs": [
        {
          "name": "stdout",
          "output_type": "stream",
          "text": [
            "4.8\n"
          ]
        }
      ],
      "source": [
        "import numpy as np\n",
        "inputs = [1.0, 2.0, 3.0, 2.5]\n",
        "weights = [0.2, 0.8, -0.5, 1.0]\n",
        "bias = 2.0\n",
        "outputs = np.dot(weights, inputs) + bias\n",
        "print(outputs)"
      ]
    },
    {
      "cell_type": "markdown",
      "metadata": {
        "id": "_x10q2_R8UNu"
      },
      "source": [
        "##### LAYER OF NEURONS USING NUMPY"
      ]
    },
    {
      "cell_type": "markdown",
      "metadata": {
        "id": "Bkm2btfY8UNu"
      },
      "source": [
        "![A neuron layer with np dot product](./images/neuron-layer-np-dot.png)"
      ]
    },
    {
      "cell_type": "code",
      "execution_count": null,
      "metadata": {
        "id": "KYiy6yk38UNv"
      },
      "outputs": [],
      "source": [
        "##  In plain Python, we wrote this as a list of lists. With NumPy, this will be a 2-dimensional array, which we’ll call a matrix."
      ]
    },
    {
      "cell_type": "code",
      "execution_count": 14,
      "metadata": {
        "id": "dWnhVLio8UNw",
        "outputId": "12973122-25bf-4400-8262-b60e2f6e3dfd"
      },
      "outputs": [
        {
          "name": "stdout",
          "output_type": "stream",
          "text": [
            "[4.8   1.21  2.385]\n"
          ]
        }
      ],
      "source": [
        "inputs = [1.0, 2.0, 3.0, 2.5]\n",
        "weights = [[0.2, 0.8, -0.5, 1],\n",
        " [0.5, -0.91, 0.26, -0.5],\n",
        " [-0.26, -0.27, 0.17, 0.87]]\n",
        "biases = [2.0, 3.0, 0.5]\n",
        "\n",
        "# A dot product of a matrix and a vector results in a list of dot products.\n",
        "#The np.dot() method treats the matrix as a list of vectors and performs a dot product of each of those vectors with the other vector\n",
        "\n",
        "layer_outputs = np.dot(weights, inputs) + biases\n",
        "print(layer_outputs)"
      ]
    },
    {
      "cell_type": "markdown",
      "metadata": {
        "id": "zbmUcHAI8UNw"
      },
      "source": [
        "##### LAYER OF NEURONS AND BATCH OF DATA USING NUMPY"
      ]
    },
    {
      "cell_type": "markdown",
      "metadata": {
        "id": "CdYVgytk8UNx"
      },
      "source": [
        "![A neuron layer with a batch of input](./images/neuron-layer-with-input-batch.png)"
      ]
    },
    {
      "cell_type": "markdown",
      "metadata": {
        "id": "FvCbu-NB8UNx"
      },
      "source": [
        "###### NEED TO TAKE TRANSPOSE OF WEIGHT MATRIX"
      ]
    },
    {
      "cell_type": "markdown",
      "metadata": {
        "id": "K9uA_IMH8UNx"
      },
      "source": [
        "![Get transpose of weights matrix](./images/neuron-layer-with-input-batch-weights-transpose.png)"
      ]
    },
    {
      "cell_type": "code",
      "execution_count": 15,
      "metadata": {
        "id": "nkve7cWx8UNx",
        "outputId": "a0ea87ab-4e6a-40fe-c862-ec31672c61eb"
      },
      "outputs": [
        {
          "name": "stdout",
          "output_type": "stream",
          "text": [
            "[[ 4.8    1.21   2.385]\n",
            " [ 8.9   -1.81   0.2  ]\n",
            " [ 1.41   1.051  0.026]]\n"
          ]
        }
      ],
      "source": [
        "inputs = [[1.0, 2.0, 3.0, 2.5], [2.0, 5.0, -1.0, 2.0], [-1.5, 2.7, 3.3, -0.8]]\n",
        "weights = [[0.2, 0.8, -0.5, 1],\n",
        " [0.5, -0.91, 0.26, -0.5],\n",
        " [-0.26, -0.27, 0.17, 0.87]]\n",
        "biases = [2.0, 3.0, 0.5]\n",
        "\n",
        "# NOTE: WE CAN'T TRANSPOSE LISTS IN PYTHON, SO WE HAVE THE CONVERT THE WEIGHTS MATRIX INTO AN ARRAY FIRST\n",
        "outputs = np.dot(inputs, np.array(weights).T) + biases\n",
        "print(outputs)"
      ]
    },
    {
      "cell_type": "code",
      "execution_count": null,
      "metadata": {
        "id": "JGDlFO_A8UNy"
      },
      "outputs": [],
      "source": []
    }
  ],
  "metadata": {
    "colab": {
      "include_colab_link": true,
      "provenance": []
    },
    "kernelspec": {
      "display_name": ".venv",
      "language": "python",
      "name": "python3"
    },
    "language_info": {
      "codemirror_mode": {
        "name": "ipython",
        "version": 3
      },
      "file_extension": ".py",
      "mimetype": "text/x-python",
      "name": "python",
      "nbconvert_exporter": "python",
      "pygments_lexer": "ipython3",
      "version": "3.12.3"
    }
  },
  "nbformat": 4,
  "nbformat_minor": 0
}
